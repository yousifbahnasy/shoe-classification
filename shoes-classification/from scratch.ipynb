{
  "nbformat": 4,
  "nbformat_minor": 0,
  "metadata": {
    "colab": {
      "private_outputs": true,
      "provenance": [],
      "gpuType": "T4"
    },
    "kernelspec": {
      "name": "python3",
      "display_name": "Python 3"
    },
    "language_info": {
      "name": "python"
    },
    "gpuClass": "standard",
    "accelerator": "GPU"
  },
  "cells": [
    {
      "cell_type": "code",
      "source": [
        "from google.colab import drive\n",
        "drive.mount('/content/drive')"
      ],
      "metadata": {
        "id": "LcBivs_QUSp_"
      },
      "execution_count": null,
      "outputs": []
    },
    {
      "cell_type": "code",
      "execution_count": null,
      "metadata": {
        "id": "RokHg3muu3Rj"
      },
      "outputs": [],
      "source": [
        "import pandas as pd\n",
        "import numpy as np\n",
        "import matplotlib.pyplot as plt\n",
        "%matplotlib inline\n",
        "import seaborn as sns\n",
        "sns.set(style=\"whitegrid\")\n",
        "import os\n",
        "import glob as gb\n",
        "import cv2\n",
        "import tensorflow as tf\n",
        "import keras"
      ]
    },
    {
      "cell_type": "code",
      "source": [
        "trainpath = '/content/drive/MyDrive/dataset/shoes-classification-dataset-13k-images/Shoes Dataset/Train/'\n",
        "testpath = '/content/drive/MyDrive/dataset/shoes-classification-dataset-13k-images/Shoes Dataset/Test/'\n",
        "predpath = '/content/drive/MyDrive/dataset/shoes-classification-dataset-13k-images/Shoes Dataset/Valid/'"
      ],
      "metadata": {
        "id": "U-Es6U7-wzbW"
      },
      "execution_count": null,
      "outputs": []
    },
    {
      "cell_type": "code",
      "source": [
        "# size = []\n",
        "# for folder in os.listdir(trainpath):\n",
        "#     files = gb.glob(pathname= str(trainpath + folder+'/*') )\n",
        "#     for file in files :\n",
        "#         imag = plt.imread(file)\n",
        "#         size.append(imag.shape)\n",
        "# pd.Series(size).value_counts()"
      ],
      "metadata": {
        "id": "IIE8PCbzx-uw"
      },
      "execution_count": null,
      "outputs": []
    },
    {
      "cell_type": "code",
      "source": [
        "s = 100"
      ],
      "metadata": {
        "id": "B0ktE7dzypzj"
      },
      "execution_count": null,
      "outputs": []
    },
    {
      "cell_type": "code",
      "source": [
        "code = {'Ballet Flat':0, 'Boat':1, 'Brogue':2, 'Clog':3, 'Sneaker':4}\n",
        "def getcode(n) : \n",
        "    for x , y in code.items() : \n",
        "        if n == y : \n",
        "            return x  "
      ],
      "metadata": {
        "id": "qTiGLwTzysKf"
      },
      "execution_count": null,
      "outputs": []
    },
    {
      "cell_type": "code",
      "source": [
        "x_train = []\n",
        "y_train = []\n",
        "for folder in os.listdir(trainpath):\n",
        "    files = gb.glob(pathname= str(trainpath+folder+'/*'))\n",
        "    for file in files :\n",
        "        imag = cv2.imread(file)\n",
        "        imag_array = cv2.resize(imag,(s,s))\n",
        "        x_train.append(list(imag_array))\n",
        "        y_train.append(code[folder])\n",
        "    "
      ],
      "metadata": {
        "id": "Lq4vImhayt7x"
      },
      "execution_count": null,
      "outputs": []
    },
    {
      "cell_type": "code",
      "source": [
        "plt.figure(figsize=(20,20))\n",
        "for n , i in enumerate(list(np.random.randint(0,len(x_train),36))) : \n",
        "    plt.subplot(6,6,n+1)\n",
        "    plt.imshow(x_train[i])   \n",
        "    plt.axis('off')\n",
        "    plt.title(getcode(y_train[i]))"
      ],
      "metadata": {
        "id": "dn_LD3yayv67"
      },
      "execution_count": null,
      "outputs": []
    },
    {
      "cell_type": "code",
      "source": [
        "x_test = []\n",
        "y_test = []\n",
        "for folder in  os.listdir(testpath) : \n",
        "    files = gb.glob(pathname= str(testpath + folder + '/*'))\n",
        "    for file in files: \n",
        "        image = cv2.imread(file)\n",
        "        image_array = cv2.resize(image , (s,s))\n",
        "        x_test.append(list(image_array))\n",
        "        y_test.append(code[folder])"
      ],
      "metadata": {
        "id": "U8nJ3Vzoyx4P"
      },
      "execution_count": null,
      "outputs": []
    },
    {
      "cell_type": "code",
      "source": [
        "x_pred = []\n",
        "y_pred = []\n",
        "for folder in  os.listdir(predpath) : \n",
        "    files = gb.glob(pathname= str(predpath +folder+ '/*'))\n",
        "    for file in files: \n",
        "        image = cv2.imread(file)\n",
        "        image_array = cv2.resize(image , (s,s))\n",
        "        x_pred.append(list(image_array))   \n",
        "        y_pred.append(code[folder])"
      ],
      "metadata": {
        "id": "WKY3MT0Cy5UE"
      },
      "execution_count": null,
      "outputs": []
    },
    {
      "cell_type": "code",
      "source": [
        "x_train = np.array(x_train)\n",
        "y_train = np.array(y_train)\n",
        "x_test = np.array(x_test)\n",
        "x_pred = np.array(x_pred)\n",
        "y_pred =np.array(y_pred)\n",
        "y_test = np.array(y_test)"
      ],
      "metadata": {
        "id": "qy6MgO7Yy6UU"
      },
      "execution_count": null,
      "outputs": []
    },
    {
      "cell_type": "code",
      "source": [
        "KerasModel = keras.models.Sequential([\n",
        "        keras.layers.Conv2D(200,kernel_size=(3,3),activation='relu',input_shape=(s,s,3)),\n",
        "        keras.layers.Conv2D(150,kernel_size=(3,3),activation='relu'),\n",
        "        keras.layers.MaxPool2D(4,4),\n",
        "        keras.layers.Conv2D(120,kernel_size=(3,3),activation='relu'),    \n",
        "        keras.layers.Conv2D(80,kernel_size=(3,3),activation='relu'),    \n",
        "        keras.layers.Conv2D(50,kernel_size=(3,3),activation='relu'),\n",
        "        keras.layers.MaxPool2D(4,4),\n",
        "        keras.layers.Flatten() ,    \n",
        "        keras.layers.Dense(120,activation='relu') ,    \n",
        "        keras.layers.Dense(100,activation='relu') ,    \n",
        "        keras.layers.Dense(50,activation='relu') ,        \n",
        "        keras.layers.Dropout(rate=0.5) ,            \n",
        "        keras.layers.Dense(6,activation='softmax') ,    \n",
        "        ])"
      ],
      "metadata": {
        "id": "7D6gZcOky8PI"
      },
      "execution_count": null,
      "outputs": []
    },
    {
      "cell_type": "code",
      "source": [
        "KerasModel.compile(optimizer ='adam',loss='sparse_categorical_crossentropy',metrics=['accuracy'])"
      ],
      "metadata": {
        "id": "2zYn_U2Wy-PR"
      },
      "execution_count": null,
      "outputs": []
    },
    {
      "cell_type": "code",
      "source": [
        "epochs = 20\n",
        "ThisModel = KerasModel.fit(x_train, y_train, epochs=epochs,batch_size=64,verbose=1)"
      ],
      "metadata": {
        "id": "7B567ie4zAg9"
      },
      "execution_count": null,
      "outputs": []
    },
    {
      "cell_type": "code",
      "source": [
        "ModelLoss, ModelAccuracy = KerasModel.evaluate(x_test, y_test)\n",
        "\n",
        "print('Test Loss is {}'.format(ModelLoss))\n",
        "print('Test Accuracy is {}'.format(ModelAccuracy ))"
      ],
      "metadata": {
        "id": "HgKgErSlzCNk"
      },
      "execution_count": null,
      "outputs": []
    },
    {
      "cell_type": "code",
      "source": [],
      "metadata": {
        "id": "hnESztgpZpdE"
      },
      "execution_count": null,
      "outputs": []
    }
  ]
}